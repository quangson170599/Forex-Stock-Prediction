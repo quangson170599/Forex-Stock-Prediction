{
  "nbformat": 4,
  "nbformat_minor": 0,
  "metadata": {
    "colab": {
      "name": "Train_model_ML.ipynb",
      "provenance": []
    },
    "kernelspec": {
      "name": "python3",
      "display_name": "Python 3"
    },
    "language_info": {
      "name": "python"
    },
    "accelerator": "GPU"
  },
  "cells": [
    {
      "cell_type": "code",
      "source": [
        "from google.colab import drive\n",
        "drive.mount('/content/drive')"
      ],
      "metadata": {
        "colab": {
          "base_uri": "https://localhost:8080/"
        },
        "id": "yFvtGuBDuG8l",
        "outputId": "70b756e5-3f31-4c31-c90d-de7c8294650a"
      },
      "execution_count": null,
      "outputs": [
        {
          "output_type": "stream",
          "name": "stdout",
          "text": [
            "Mounted at /content/drive\n"
          ]
        }
      ]
    },
    {
      "cell_type": "code",
      "source": [
        "%cd /content/drive/MyDrive/Stock-prediction-krisk/"
      ],
      "metadata": {
        "colab": {
          "base_uri": "https://localhost:8080/"
        },
        "id": "CcW9zBM_uZ28",
        "outputId": "f933748d-7e61-478d-d9a4-92c763e0900c"
      },
      "execution_count": null,
      "outputs": [
        {
          "output_type": "stream",
          "name": "stdout",
          "text": [
            "/content/drive/MyDrive/Stock-prediction-krisk\n"
          ]
        }
      ]
    },
    {
      "cell_type": "code",
      "execution_count": null,
      "metadata": {
        "id": "QK8PcapitqKR"
      },
      "outputs": [],
      "source": [
        "import pandas as pd"
      ]
    },
    {
      "cell_type": "code",
      "source": [
        "df=pd.read_csv('AAPL.csv')"
      ],
      "metadata": {
        "id": "6WxbzX9auC5b"
      },
      "execution_count": null,
      "outputs": []
    },
    {
      "cell_type": "code",
      "source": [
        "df.head()"
      ],
      "metadata": {
        "colab": {
          "base_uri": "https://localhost:8080/",
          "height": 354
        },
        "id": "Yu8rShf4uETZ",
        "outputId": "17cc5fea-2e01-4ce4-afdb-718202d65467"
      },
      "execution_count": null,
      "outputs": [
        {
          "output_type": "execute_result",
          "data": {
            "text/plain": [
              "   Unnamed: 0 symbol                       date    close     high     low  \\\n",
              "0           0   AAPL  2015-05-27 00:00:00+00:00  132.045  132.260  130.05   \n",
              "1           1   AAPL  2015-05-28 00:00:00+00:00  131.780  131.950  131.10   \n",
              "2           2   AAPL  2015-05-29 00:00:00+00:00  130.280  131.450  129.90   \n",
              "3           3   AAPL  2015-06-01 00:00:00+00:00  130.535  131.390  130.05   \n",
              "4           4   AAPL  2015-06-02 00:00:00+00:00  129.960  130.655  129.32   \n",
              "\n",
              "     open    volume    adjClose     adjHigh      adjLow     adjOpen  \\\n",
              "0  130.34  45833246  121.682558  121.880685  119.844118  120.111360   \n",
              "1  131.86  30733309  121.438354  121.595013  120.811718  121.512076   \n",
              "2  131.23  50884452  120.056069  121.134251  119.705890  120.931516   \n",
              "3  131.20  32112797  120.291057  121.078960  119.844118  120.903870   \n",
              "4  129.86  33667627  119.761181  120.401640  119.171406  119.669029   \n",
              "\n",
              "   adjVolume  divCash  splitFactor  \n",
              "0   45833246      0.0          1.0  \n",
              "1   30733309      0.0          1.0  \n",
              "2   50884452      0.0          1.0  \n",
              "3   32112797      0.0          1.0  \n",
              "4   33667627      0.0          1.0  "
            ],
            "text/html": [
              "\n",
              "  <div id=\"df-22527a39-4ab5-46fd-b9ba-edc0149b813b\">\n",
              "    <div class=\"colab-df-container\">\n",
              "      <div>\n",
              "<style scoped>\n",
              "    .dataframe tbody tr th:only-of-type {\n",
              "        vertical-align: middle;\n",
              "    }\n",
              "\n",
              "    .dataframe tbody tr th {\n",
              "        vertical-align: top;\n",
              "    }\n",
              "\n",
              "    .dataframe thead th {\n",
              "        text-align: right;\n",
              "    }\n",
              "</style>\n",
              "<table border=\"1\" class=\"dataframe\">\n",
              "  <thead>\n",
              "    <tr style=\"text-align: right;\">\n",
              "      <th></th>\n",
              "      <th>Unnamed: 0</th>\n",
              "      <th>symbol</th>\n",
              "      <th>date</th>\n",
              "      <th>close</th>\n",
              "      <th>high</th>\n",
              "      <th>low</th>\n",
              "      <th>open</th>\n",
              "      <th>volume</th>\n",
              "      <th>adjClose</th>\n",
              "      <th>adjHigh</th>\n",
              "      <th>adjLow</th>\n",
              "      <th>adjOpen</th>\n",
              "      <th>adjVolume</th>\n",
              "      <th>divCash</th>\n",
              "      <th>splitFactor</th>\n",
              "    </tr>\n",
              "  </thead>\n",
              "  <tbody>\n",
              "    <tr>\n",
              "      <th>0</th>\n",
              "      <td>0</td>\n",
              "      <td>AAPL</td>\n",
              "      <td>2015-05-27 00:00:00+00:00</td>\n",
              "      <td>132.045</td>\n",
              "      <td>132.260</td>\n",
              "      <td>130.05</td>\n",
              "      <td>130.34</td>\n",
              "      <td>45833246</td>\n",
              "      <td>121.682558</td>\n",
              "      <td>121.880685</td>\n",
              "      <td>119.844118</td>\n",
              "      <td>120.111360</td>\n",
              "      <td>45833246</td>\n",
              "      <td>0.0</td>\n",
              "      <td>1.0</td>\n",
              "    </tr>\n",
              "    <tr>\n",
              "      <th>1</th>\n",
              "      <td>1</td>\n",
              "      <td>AAPL</td>\n",
              "      <td>2015-05-28 00:00:00+00:00</td>\n",
              "      <td>131.780</td>\n",
              "      <td>131.950</td>\n",
              "      <td>131.10</td>\n",
              "      <td>131.86</td>\n",
              "      <td>30733309</td>\n",
              "      <td>121.438354</td>\n",
              "      <td>121.595013</td>\n",
              "      <td>120.811718</td>\n",
              "      <td>121.512076</td>\n",
              "      <td>30733309</td>\n",
              "      <td>0.0</td>\n",
              "      <td>1.0</td>\n",
              "    </tr>\n",
              "    <tr>\n",
              "      <th>2</th>\n",
              "      <td>2</td>\n",
              "      <td>AAPL</td>\n",
              "      <td>2015-05-29 00:00:00+00:00</td>\n",
              "      <td>130.280</td>\n",
              "      <td>131.450</td>\n",
              "      <td>129.90</td>\n",
              "      <td>131.23</td>\n",
              "      <td>50884452</td>\n",
              "      <td>120.056069</td>\n",
              "      <td>121.134251</td>\n",
              "      <td>119.705890</td>\n",
              "      <td>120.931516</td>\n",
              "      <td>50884452</td>\n",
              "      <td>0.0</td>\n",
              "      <td>1.0</td>\n",
              "    </tr>\n",
              "    <tr>\n",
              "      <th>3</th>\n",
              "      <td>3</td>\n",
              "      <td>AAPL</td>\n",
              "      <td>2015-06-01 00:00:00+00:00</td>\n",
              "      <td>130.535</td>\n",
              "      <td>131.390</td>\n",
              "      <td>130.05</td>\n",
              "      <td>131.20</td>\n",
              "      <td>32112797</td>\n",
              "      <td>120.291057</td>\n",
              "      <td>121.078960</td>\n",
              "      <td>119.844118</td>\n",
              "      <td>120.903870</td>\n",
              "      <td>32112797</td>\n",
              "      <td>0.0</td>\n",
              "      <td>1.0</td>\n",
              "    </tr>\n",
              "    <tr>\n",
              "      <th>4</th>\n",
              "      <td>4</td>\n",
              "      <td>AAPL</td>\n",
              "      <td>2015-06-02 00:00:00+00:00</td>\n",
              "      <td>129.960</td>\n",
              "      <td>130.655</td>\n",
              "      <td>129.32</td>\n",
              "      <td>129.86</td>\n",
              "      <td>33667627</td>\n",
              "      <td>119.761181</td>\n",
              "      <td>120.401640</td>\n",
              "      <td>119.171406</td>\n",
              "      <td>119.669029</td>\n",
              "      <td>33667627</td>\n",
              "      <td>0.0</td>\n",
              "      <td>1.0</td>\n",
              "    </tr>\n",
              "  </tbody>\n",
              "</table>\n",
              "</div>\n",
              "      <button class=\"colab-df-convert\" onclick=\"convertToInteractive('df-22527a39-4ab5-46fd-b9ba-edc0149b813b')\"\n",
              "              title=\"Convert this dataframe to an interactive table.\"\n",
              "              style=\"display:none;\">\n",
              "        \n",
              "  <svg xmlns=\"http://www.w3.org/2000/svg\" height=\"24px\"viewBox=\"0 0 24 24\"\n",
              "       width=\"24px\">\n",
              "    <path d=\"M0 0h24v24H0V0z\" fill=\"none\"/>\n",
              "    <path d=\"M18.56 5.44l.94 2.06.94-2.06 2.06-.94-2.06-.94-.94-2.06-.94 2.06-2.06.94zm-11 1L8.5 8.5l.94-2.06 2.06-.94-2.06-.94L8.5 2.5l-.94 2.06-2.06.94zm10 10l.94 2.06.94-2.06 2.06-.94-2.06-.94-.94-2.06-.94 2.06-2.06.94z\"/><path d=\"M17.41 7.96l-1.37-1.37c-.4-.4-.92-.59-1.43-.59-.52 0-1.04.2-1.43.59L10.3 9.45l-7.72 7.72c-.78.78-.78 2.05 0 2.83L4 21.41c.39.39.9.59 1.41.59.51 0 1.02-.2 1.41-.59l7.78-7.78 2.81-2.81c.8-.78.8-2.07 0-2.86zM5.41 20L4 18.59l7.72-7.72 1.47 1.35L5.41 20z\"/>\n",
              "  </svg>\n",
              "      </button>\n",
              "      \n",
              "  <style>\n",
              "    .colab-df-container {\n",
              "      display:flex;\n",
              "      flex-wrap:wrap;\n",
              "      gap: 12px;\n",
              "    }\n",
              "\n",
              "    .colab-df-convert {\n",
              "      background-color: #E8F0FE;\n",
              "      border: none;\n",
              "      border-radius: 50%;\n",
              "      cursor: pointer;\n",
              "      display: none;\n",
              "      fill: #1967D2;\n",
              "      height: 32px;\n",
              "      padding: 0 0 0 0;\n",
              "      width: 32px;\n",
              "    }\n",
              "\n",
              "    .colab-df-convert:hover {\n",
              "      background-color: #E2EBFA;\n",
              "      box-shadow: 0px 1px 2px rgba(60, 64, 67, 0.3), 0px 1px 3px 1px rgba(60, 64, 67, 0.15);\n",
              "      fill: #174EA6;\n",
              "    }\n",
              "\n",
              "    [theme=dark] .colab-df-convert {\n",
              "      background-color: #3B4455;\n",
              "      fill: #D2E3FC;\n",
              "    }\n",
              "\n",
              "    [theme=dark] .colab-df-convert:hover {\n",
              "      background-color: #434B5C;\n",
              "      box-shadow: 0px 1px 3px 1px rgba(0, 0, 0, 0.15);\n",
              "      filter: drop-shadow(0px 1px 2px rgba(0, 0, 0, 0.3));\n",
              "      fill: #FFFFFF;\n",
              "    }\n",
              "  </style>\n",
              "\n",
              "      <script>\n",
              "        const buttonEl =\n",
              "          document.querySelector('#df-22527a39-4ab5-46fd-b9ba-edc0149b813b button.colab-df-convert');\n",
              "        buttonEl.style.display =\n",
              "          google.colab.kernel.accessAllowed ? 'block' : 'none';\n",
              "\n",
              "        async function convertToInteractive(key) {\n",
              "          const element = document.querySelector('#df-22527a39-4ab5-46fd-b9ba-edc0149b813b');\n",
              "          const dataTable =\n",
              "            await google.colab.kernel.invokeFunction('convertToInteractive',\n",
              "                                                     [key], {});\n",
              "          if (!dataTable) return;\n",
              "\n",
              "          const docLinkHtml = 'Like what you see? Visit the ' +\n",
              "            '<a target=\"_blank\" href=https://colab.research.google.com/notebooks/data_table.ipynb>data table notebook</a>'\n",
              "            + ' to learn more about interactive tables.';\n",
              "          element.innerHTML = '';\n",
              "          dataTable['output_type'] = 'display_data';\n",
              "          await google.colab.output.renderOutput(dataTable, element);\n",
              "          const docLink = document.createElement('div');\n",
              "          docLink.innerHTML = docLinkHtml;\n",
              "          element.appendChild(docLink);\n",
              "        }\n",
              "      </script>\n",
              "    </div>\n",
              "  </div>\n",
              "  "
            ]
          },
          "metadata": {},
          "execution_count": 8
        }
      ]
    },
    {
      "cell_type": "code",
      "source": [
        "df1 = df.reset_index()['close']"
      ],
      "metadata": {
        "id": "aIe1yfdFvaAB"
      },
      "execution_count": null,
      "outputs": []
    },
    {
      "cell_type": "code",
      "source": [
        "df1.head()"
      ],
      "metadata": {
        "colab": {
          "base_uri": "https://localhost:8080/"
        },
        "id": "M1_MrIvlvzUR",
        "outputId": "7a9eaa3e-67b6-43d7-dd35-029783318936"
      },
      "execution_count": null,
      "outputs": [
        {
          "output_type": "execute_result",
          "data": {
            "text/plain": [
              "0    132.045\n",
              "1    131.780\n",
              "2    130.280\n",
              "3    130.535\n",
              "4    129.960\n",
              "Name: close, dtype: float64"
            ]
          },
          "metadata": {},
          "execution_count": 13
        }
      ]
    },
    {
      "cell_type": "code",
      "source": [
        "import matplotlib.pyplot as plt\n",
        "plt.plot(df1)"
      ],
      "metadata": {
        "colab": {
          "base_uri": "https://localhost:8080/",
          "height": 282
        },
        "id": "uUoZyClQv0BX",
        "outputId": "a5e43ce8-e8a9-4cdb-f8a7-3dcbb25794ee"
      },
      "execution_count": null,
      "outputs": [
        {
          "output_type": "execute_result",
          "data": {
            "text/plain": [
              "[<matplotlib.lines.Line2D at 0x7faca13f9a50>]"
            ]
          },
          "metadata": {},
          "execution_count": 14
        },
        {
          "output_type": "display_data",
          "data": {
            "text/plain": [
              "<Figure size 432x288 with 1 Axes>"
            ],
            "image/png": "[encoded data removed]"
          },
          "metadata": {
            "needs_background": "light"
          }
        }
      ]
    },
    {
      "cell_type": "code",
      "source": [
        "import numpy as np"
      ],
      "metadata": {
        "id": "dInp7wK_wIFs"
      },
      "execution_count": null,
      "outputs": []
    },
    {
      "cell_type": "code",
      "source": [
        "from sklearn.preprocessing import MinMaxScaler\n",
        "scaler = MinMaxScaler(feature_range=(0,1))\n",
        "df1 = scaler.fit_transform(np.array(df1).reshape(-1,1))"
      ],
      "metadata": {
        "id": "ppnYaTFMwLqi"
      },
      "execution_count": null,
      "outputs": []
    },
    {
      "cell_type": "code",
      "source": [
        "df1"
      ],
      "metadata": {
        "colab": {
          "base_uri": "https://localhost:8080/"
        },
        "id": "CPEqoQvBwrai",
        "outputId": "b7104b51-89e8-4a5f-a759-c3762683d67b"
      },
      "execution_count": null,
      "outputs": [
        {
          "output_type": "execute_result",
          "data": {
            "text/plain": [
              "array([[0.17607447],\n",
              "       [0.17495567],\n",
              "       [0.16862282],\n",
              "       ...,\n",
              "       [0.96635143],\n",
              "       [0.9563033 ],\n",
              "       [0.96491598]])"
            ]
          },
          "metadata": {},
          "execution_count": 18
        }
      ]
    },
    {
      "cell_type": "code",
      "source": [
        "training_size = int(len(df1)*0.65)\n",
        "test_size = len(df1) - training_size\n",
        "train_data, test_data = df1[0:training_size,:], df1[training_size:len(df1),:1]"
      ],
      "metadata": {
        "id": "p1hycwIxwsGZ"
      },
      "execution_count": null,
      "outputs": []
    },
    {
      "cell_type": "code",
      "source": [
        "training_size, test_size"
      ],
      "metadata": {
        "colab": {
          "base_uri": "https://localhost:8080/"
        },
        "id": "2EpX09Q0xjU4",
        "outputId": "d4512f96-1d90-4526-c1b3-677c94b5eec3"
      },
      "execution_count": null,
      "outputs": [
        {
          "output_type": "execute_result",
          "data": {
            "text/plain": [
              "(817, 441)"
            ]
          },
          "metadata": {},
          "execution_count": 22
        }
      ]
    },
    {
      "cell_type": "code",
      "source": [
        "import numpy\n",
        "def create_dataset(dataset, time_step=1):\n",
        "  dataX, dataY = [], []\n",
        "  for i in range(len(dataset)-time_step-1):\n",
        "    a = dataset[i:(i+time_step), 0]\n",
        "    dataX.append(a)\n",
        "    dataY.append(dataset[i + time_step, 0])\n",
        "  return numpy.array(dataX), numpy.array(dataY)"
      ],
      "metadata": {
        "id": "-Xt_G051xHWP"
      },
      "execution_count": null,
      "outputs": []
    },
    {
      "cell_type": "code",
      "source": [
        "time_step = 100\n",
        "X_train, y_train = create_dataset(train_data, time_step)\n",
        "X_test, y_test = create_dataset(test_data, time_step)"
      ],
      "metadata": {
        "id": "WZQV0jULzOLf"
      },
      "execution_count": null,
      "outputs": []
    },
    {
      "cell_type": "code",
      "source": [
        "X_test.shape, y_test.shape"
      ],
      "metadata": {
        "colab": {
          "base_uri": "https://localhost:8080/"
        },
        "id": "sqhao73azrfN",
        "outputId": "b235c94c-7da3-43fd-8667-3f46d0357540"
      },
      "execution_count": null,
      "outputs": [
        {
          "output_type": "execute_result",
          "data": {
            "text/plain": [
              "((340, 100), (340,))"
            ]
          },
          "metadata": {},
          "execution_count": 25
        }
      ]
    },
    {
      "cell_type": "code",
      "source": [
        "X_train = X_train.reshape(X_train.shape[0], X_train.shape[1],1)\n",
        "X_test = X_test.reshape(X_test.shape[0], X_test.shape[1],1)"
      ],
      "metadata": {
        "id": "7CNfEcOR0L9W"
      },
      "execution_count": null,
      "outputs": []
    },
    {
      "cell_type": "code",
      "source": [
        "from tensorflow.keras.models import Sequential\n",
        "from tensorflow.keras.layers import Dense\n",
        "from tensorflow.keras.layers import LSTM"
      ],
      "metadata": {
        "id": "iV1wV5MK0omy"
      },
      "execution_count": null,
      "outputs": []
    },
    {
      "cell_type": "code",
      "source": [
        "model = Sequential()\n",
        "model.add(LSTM(50, return_sequences=True, input_shape=(100,1)))\n",
        "model.add(LSTM(50, return_sequences=True))\n",
        "model.add(LSTM(50))\n",
        "model.add(Dense(1))\n",
        "model.compile(loss='mean_squared_error', optimizer='adam')"
      ],
      "metadata": {
        "id": "pIEAqXUS02he"
      },
      "execution_count": null,
      "outputs": []
    },
    {
      "cell_type": "code",
      "source": [
        "model.summary()"
      ],
      "metadata": {
        "colab": {
          "base_uri": "https://localhost:8080/"
        },
        "id": "foi5trr42AUz",
        "outputId": "a27358d9-e6b0-4b3b-e924-d626fed0c92a"
      },
      "execution_count": null,
      "outputs": [
        {
          "output_type": "stream",
          "name": "stdout",
          "text": [
            "Model: \"sequential\"\n",
            "_________________________________________________________________\n",
            " Layer (type)                Output Shape              Param #   \n",
            "=================================================================\n",
            " lstm (LSTM)                 (None, 100, 50)           10400     \n",
            "                                                                 \n",
            " lstm_1 (LSTM)               (None, 100, 50)           20200     \n",
            "                                                                 \n",
            " lstm_2 (LSTM)               (None, 50)                20200     \n",
            "                                                                 \n",
            " dense (Dense)               (None, 1)                 51        \n",
            "                                                                 \n",
            "=================================================================\n",
            "Total params: 50,851\n",
            "Trainable params: 50,851\n",
            "Non-trainable params: 0\n",
            "_________________________________________________________________\n"
          ]
        }
      ]
    },
    {
      "cell_type": "code",
      "source": [
        "model.fit(X_train, y_train, validation_data=(X_test,y_test),epochs=100, batch_size=64, verbose=1)"
      ],
      "metadata": {
        "colab": {
          "base_uri": "https://localhost:8080/"
        },
        "id": "2-xXj1uD2ER1",
        "outputId": "cd31bfe2-3a0d-48f9-a273-9fdb3d511dbf"
      },
      "execution_count": null,
      "outputs": [
        {
          "output_type": "stream",
          "name": "stdout",
          "text": [
            "Epoch 1/100\n",
            "12/12 [==============================] - 18s 319ms/step - loss: 0.0215 - val_loss: 0.0542\n",
            "Epoch 2/100\n",
            "12/12 [==============================] - 1s 84ms/step - loss: 0.0040 - val_loss: 0.0043\n",
            "Epoch 3/100\n",
            "12/12 [==============================] - 1s 84ms/step - loss: 0.0011 - val_loss: 0.0047\n",
            "Epoch 4/100\n",
            "12/12 [==============================] - 1s 90ms/step - loss: 7.9685e-04 - val_loss: 0.0047\n",
            "Epoch 5/100\n",
            "12/12 [==============================] - 1s 97ms/step - loss: 6.6723e-04 - val_loss: 0.0053\n",
            "Epoch 6/100\n",
            "12/12 [==============================] - 1s 84ms/step - loss: 6.0179e-04 - val_loss: 0.0038\n",
            "Epoch 7/100\n",
            "12/12 [==============================] - 1s 87ms/step - loss: 6.0245e-04 - val_loss: 0.0042\n",
            "Epoch 8/100\n",
            "12/12 [==============================] - 1s 86ms/step - loss: 5.8935e-04 - val_loss: 0.0039\n",
            "Epoch 9/100\n",
            "12/12 [==============================] - 1s 85ms/step - loss: 5.6241e-04 - val_loss: 0.0034\n",
            "Epoch 10/100\n",
            "12/12 [==============================] - 1s 86ms/step - loss: 5.7001e-04 - val_loss: 0.0033\n",
            "Epoch 11/100\n",
            "12/12 [==============================] - 1s 87ms/step - loss: 5.6299e-04 - val_loss: 0.0034\n",
            "Epoch 12/100\n",
            "12/12 [==============================] - 1s 85ms/step - loss: 6.2398e-04 - val_loss: 0.0032\n",
            "Epoch 13/100\n",
            "12/12 [==============================] - 1s 89ms/step - loss: 5.5500e-04 - val_loss: 0.0032\n",
            "Epoch 14/100\n",
            "12/12 [==============================] - 1s 86ms/step - loss: 5.2444e-04 - val_loss: 0.0033\n",
            "Epoch 15/100\n",
            "12/12 [==============================] - 1s 87ms/step - loss: 5.1875e-04 - val_loss: 0.0039\n",
            "Epoch 16/100\n",
            "12/12 [==============================] - 1s 84ms/step - loss: 5.4176e-04 - val_loss: 0.0030\n",
            "Epoch 17/100\n",
            "12/12 [==============================] - 1s 85ms/step - loss: 5.0314e-04 - val_loss: 0.0029\n",
            "Epoch 18/100\n",
            "12/12 [==============================] - 1s 87ms/step - loss: 4.8908e-04 - val_loss: 0.0029\n",
            "Epoch 19/100\n",
            "12/12 [==============================] - 1s 86ms/step - loss: 4.8513e-04 - val_loss: 0.0027\n",
            "Epoch 20/100\n",
            "12/12 [==============================] - 1s 84ms/step - loss: 4.6651e-04 - val_loss: 0.0027\n",
            "Epoch 21/100\n",
            "12/12 [==============================] - 1s 86ms/step - loss: 4.9737e-04 - val_loss: 0.0025\n",
            "Epoch 22/100\n",
            "12/12 [==============================] - 1s 87ms/step - loss: 4.7555e-04 - val_loss: 0.0026\n",
            "Epoch 23/100\n",
            "12/12 [==============================] - 1s 83ms/step - loss: 4.5891e-04 - val_loss: 0.0023\n",
            "Epoch 24/100\n",
            "12/12 [==============================] - 1s 83ms/step - loss: 4.6495e-04 - val_loss: 0.0022\n",
            "Epoch 25/100\n",
            "12/12 [==============================] - 1s 82ms/step - loss: 4.6896e-04 - val_loss: 0.0021\n",
            "Epoch 26/100\n",
            "12/12 [==============================] - 1s 84ms/step - loss: 4.2170e-04 - val_loss: 0.0021\n",
            "Epoch 27/100\n",
            "12/12 [==============================] - 1s 83ms/step - loss: 4.2018e-04 - val_loss: 0.0020\n",
            "Epoch 28/100\n",
            "12/12 [==============================] - 1s 85ms/step - loss: 4.0136e-04 - val_loss: 0.0019\n",
            "Epoch 29/100\n",
            "12/12 [==============================] - 1s 84ms/step - loss: 3.9904e-04 - val_loss: 0.0019\n",
            "Epoch 30/100\n",
            "12/12 [==============================] - 1s 86ms/step - loss: 4.3750e-04 - val_loss: 0.0019\n",
            "Epoch 31/100\n",
            "12/12 [==============================] - 1s 86ms/step - loss: 4.0108e-04 - val_loss: 0.0021\n",
            "Epoch 32/100\n",
            "12/12 [==============================] - 1s 87ms/step - loss: 4.1762e-04 - val_loss: 0.0022\n",
            "Epoch 33/100\n",
            "12/12 [==============================] - 1s 93ms/step - loss: 3.9313e-04 - val_loss: 0.0016\n",
            "Epoch 34/100\n",
            "12/12 [==============================] - 1s 91ms/step - loss: 3.7824e-04 - val_loss: 0.0016\n",
            "Epoch 35/100\n",
            "12/12 [==============================] - 1s 97ms/step - loss: 3.7734e-04 - val_loss: 0.0020\n",
            "Epoch 36/100\n",
            "12/12 [==============================] - 1s 97ms/step - loss: 3.7999e-04 - val_loss: 0.0019\n",
            "Epoch 37/100\n",
            "12/12 [==============================] - 1s 93ms/step - loss: 3.5919e-04 - val_loss: 0.0018\n",
            "Epoch 38/100\n",
            "12/12 [==============================] - 1s 82ms/step - loss: 4.1151e-04 - val_loss: 0.0021\n",
            "Epoch 39/100\n",
            "12/12 [==============================] - 1s 83ms/step - loss: 3.4706e-04 - val_loss: 0.0016\n",
            "Epoch 40/100\n",
            "12/12 [==============================] - 1s 82ms/step - loss: 3.4592e-04 - val_loss: 0.0015\n",
            "Epoch 41/100\n",
            "12/12 [==============================] - 1s 82ms/step - loss: 3.2855e-04 - val_loss: 0.0015\n",
            "Epoch 42/100\n",
            "12/12 [==============================] - 1s 82ms/step - loss: 3.7132e-04 - val_loss: 0.0016\n",
            "Epoch 43/100\n",
            "12/12 [==============================] - 1s 83ms/step - loss: 3.2904e-04 - val_loss: 0.0015\n",
            "Epoch 44/100\n",
            "12/12 [==============================] - 1s 82ms/step - loss: 3.3410e-04 - val_loss: 0.0014\n",
            "Epoch 45/100\n",
            "12/12 [==============================] - 1s 83ms/step - loss: 3.8129e-04 - val_loss: 0.0022\n",
            "Epoch 46/100\n",
            "12/12 [==============================] - 1s 81ms/step - loss: 3.4192e-04 - val_loss: 0.0014\n",
            "Epoch 47/100\n",
            "12/12 [==============================] - 1s 83ms/step - loss: 3.3587e-04 - val_loss: 0.0024\n",
            "Epoch 48/100\n",
            "12/12 [==============================] - 1s 82ms/step - loss: 3.4782e-04 - val_loss: 0.0014\n",
            "Epoch 49/100\n",
            "12/12 [==============================] - 1s 82ms/step - loss: 3.3461e-04 - val_loss: 0.0019\n",
            "Epoch 50/100\n",
            "12/12 [==============================] - 1s 82ms/step - loss: 3.4421e-04 - val_loss: 0.0018\n",
            "Epoch 51/100\n",
            "12/12 [==============================] - 1s 81ms/step - loss: 3.1666e-04 - val_loss: 0.0015\n",
            "Epoch 52/100\n",
            "12/12 [==============================] - 1s 83ms/step - loss: 3.0776e-04 - val_loss: 0.0015\n",
            "Epoch 53/100\n",
            "12/12 [==============================] - 1s 82ms/step - loss: 2.7194e-04 - val_loss: 0.0014\n",
            "Epoch 54/100\n",
            "12/12 [==============================] - 1s 82ms/step - loss: 2.8895e-04 - val_loss: 0.0013\n",
            "Epoch 55/100\n",
            "12/12 [==============================] - 1s 80ms/step - loss: 2.6948e-04 - val_loss: 0.0013\n",
            "Epoch 56/100\n",
            "12/12 [==============================] - 1s 83ms/step - loss: 2.6449e-04 - val_loss: 0.0014\n",
            "Epoch 57/100\n",
            "12/12 [==============================] - 1s 82ms/step - loss: 2.6231e-04 - val_loss: 0.0013\n",
            "Epoch 58/100\n",
            "12/12 [==============================] - 1s 82ms/step - loss: 2.5968e-04 - val_loss: 0.0019\n",
            "Epoch 59/100\n",
            "12/12 [==============================] - 1s 82ms/step - loss: 2.4938e-04 - val_loss: 0.0015\n",
            "Epoch 60/100\n",
            "12/12 [==============================] - 1s 83ms/step - loss: 2.6882e-04 - val_loss: 0.0015\n",
            "Epoch 61/100\n",
            "12/12 [==============================] - 1s 83ms/step - loss: 2.5755e-04 - val_loss: 0.0025\n",
            "Epoch 62/100\n",
            "12/12 [==============================] - 1s 81ms/step - loss: 2.9912e-04 - val_loss: 0.0015\n",
            "Epoch 63/100\n",
            "12/12 [==============================] - 1s 82ms/step - loss: 2.8552e-04 - val_loss: 0.0027\n",
            "Epoch 64/100\n",
            "12/12 [==============================] - 1s 82ms/step - loss: 2.7995e-04 - val_loss: 0.0013\n",
            "Epoch 65/100\n",
            "12/12 [==============================] - 1s 82ms/step - loss: 2.2889e-04 - val_loss: 0.0014\n",
            "Epoch 66/100\n",
            "12/12 [==============================] - 1s 82ms/step - loss: 2.3848e-04 - val_loss: 0.0013\n",
            "Epoch 67/100\n",
            "12/12 [==============================] - 1s 83ms/step - loss: 2.3734e-04 - val_loss: 0.0013\n",
            "Epoch 68/100\n",
            "12/12 [==============================] - 1s 83ms/step - loss: 2.2818e-04 - val_loss: 0.0014\n",
            "Epoch 69/100\n",
            "12/12 [==============================] - 1s 81ms/step - loss: 2.4606e-04 - val_loss: 0.0016\n",
            "Epoch 70/100\n",
            "12/12 [==============================] - 1s 82ms/step - loss: 2.7319e-04 - val_loss: 0.0012\n",
            "Epoch 71/100\n",
            "12/12 [==============================] - 1s 82ms/step - loss: 2.3620e-04 - val_loss: 0.0012\n",
            "Epoch 72/100\n",
            "12/12 [==============================] - 1s 83ms/step - loss: 2.2319e-04 - val_loss: 0.0014\n",
            "Epoch 73/100\n",
            "12/12 [==============================] - 1s 83ms/step - loss: 2.1822e-04 - val_loss: 0.0015\n",
            "Epoch 74/100\n",
            "12/12 [==============================] - 1s 83ms/step - loss: 2.2780e-04 - val_loss: 0.0014\n",
            "Epoch 75/100\n",
            "12/12 [==============================] - 1s 83ms/step - loss: 2.1307e-04 - val_loss: 0.0012\n",
            "Epoch 76/100\n",
            "12/12 [==============================] - 1s 82ms/step - loss: 2.0008e-04 - val_loss: 0.0012\n",
            "Epoch 77/100\n",
            "12/12 [==============================] - 1s 82ms/step - loss: 2.0405e-04 - val_loss: 0.0012\n",
            "Epoch 78/100\n",
            "12/12 [==============================] - 1s 82ms/step - loss: 2.0062e-04 - val_loss: 0.0018\n",
            "Epoch 79/100\n",
            "12/12 [==============================] - 1s 81ms/step - loss: 2.4079e-04 - val_loss: 0.0012\n",
            "Epoch 80/100\n",
            "12/12 [==============================] - 1s 81ms/step - loss: 1.9054e-04 - val_loss: 0.0011\n",
            "Epoch 81/100\n",
            "12/12 [==============================] - 1s 83ms/step - loss: 2.0226e-04 - val_loss: 0.0013\n",
            "Epoch 82/100\n",
            "12/12 [==============================] - 1s 83ms/step - loss: 1.9682e-04 - val_loss: 0.0011\n",
            "Epoch 83/100\n",
            "12/12 [==============================] - 1s 82ms/step - loss: 1.8955e-04 - val_loss: 0.0014\n",
            "Epoch 84/100\n",
            "12/12 [==============================] - 1s 82ms/step - loss: 1.8544e-04 - val_loss: 0.0011\n",
            "Epoch 85/100\n",
            "12/12 [==============================] - 1s 83ms/step - loss: 1.8390e-04 - val_loss: 0.0011\n",
            "Epoch 86/100\n",
            "12/12 [==============================] - 1s 81ms/step - loss: 1.7039e-04 - val_loss: 0.0011\n",
            "Epoch 87/100\n",
            "12/12 [==============================] - 1s 82ms/step - loss: 1.7983e-04 - val_loss: 0.0012\n",
            "Epoch 88/100\n",
            "12/12 [==============================] - 1s 83ms/step - loss: 1.7370e-04 - val_loss: 0.0011\n",
            "Epoch 89/100\n",
            "12/12 [==============================] - 1s 82ms/step - loss: 1.6866e-04 - val_loss: 0.0011\n",
            "Epoch 90/100\n",
            "12/12 [==============================] - 1s 83ms/step - loss: 1.6322e-04 - val_loss: 0.0011\n",
            "Epoch 91/100\n",
            "12/12 [==============================] - 1s 82ms/step - loss: 1.6382e-04 - val_loss: 0.0011\n",
            "Epoch 92/100\n",
            "12/12 [==============================] - 1s 83ms/step - loss: 1.5914e-04 - val_loss: 0.0011\n",
            "Epoch 93/100\n",
            "12/12 [==============================] - 1s 82ms/step - loss: 1.8226e-04 - val_loss: 0.0011\n",
            "Epoch 94/100\n",
            "12/12 [==============================] - 1s 82ms/step - loss: 1.5891e-04 - val_loss: 0.0010\n",
            "Epoch 95/100\n",
            "12/12 [==============================] - 1s 82ms/step - loss: 1.5831e-04 - val_loss: 0.0010\n",
            "Epoch 96/100\n",
            "12/12 [==============================] - 1s 82ms/step - loss: 1.5330e-04 - val_loss: 0.0014\n",
            "Epoch 97/100\n",
            "12/12 [==============================] - 1s 84ms/step - loss: 1.6321e-04 - val_loss: 0.0010\n",
            "Epoch 98/100\n",
            "12/12 [==============================] - 1s 81ms/step - loss: 1.5398e-04 - val_loss: 0.0012\n",
            "Epoch 99/100\n",
            "12/12 [==============================] - 1s 83ms/step - loss: 1.6243e-04 - val_loss: 0.0010\n",
            "Epoch 100/100\n",
            "12/12 [==============================] - 1s 84ms/step - loss: 1.5271e-04 - val_loss: 0.0011\n"
          ]
        },
        {
          "output_type": "execute_result",
          "data": {
            "text/plain": [
              "<keras.callbacks.History at 0x7fabb0d88890>"
            ]
          },
          "metadata": {},
          "execution_count": 30
        }
      ]
    },
    {
      "cell_type": "code",
      "source": [
        "train_predict = model.predict(X_train)\n",
        "test_predict = model.predict(X_test)"
      ],
      "metadata": {
        "id": "w8KoKTrx3zgr"
      },
      "execution_count": null,
      "outputs": []
    },
    {
      "cell_type": "code",
      "source": [
        "train_predict = scaler.inverse_transform(train_predict)\n",
        "test_predict = scaler.inverse_transform(test_predict)"
      ],
      "metadata": {
        "id": "xBZcY_uF4auO"
      },
      "execution_count": null,
      "outputs": []
    },
    {
      "cell_type": "code",
      "source": [
        "import math\n",
        "from sklearn.metrics import mean_squared_error\n",
        "math.sqrt(mean_squared_error(y_train, train_predict))"
      ],
      "metadata": {
        "colab": {
          "base_uri": "https://localhost:8080/"
        },
        "id": "UGNZajwE4n6M",
        "outputId": "dd7e8223-5f20-4e07-97cc-c96af25cd063"
      },
      "execution_count": null,
      "outputs": [
        {
          "output_type": "execute_result",
          "data": {
            "text/plain": [
              "140.84913434722853"
            ]
          },
          "metadata": {},
          "execution_count": 33
        }
      ]
    },
    {
      "cell_type": "code",
      "source": [
        "math.sqrt(mean_squared_error(y_test, test_predict))"
      ],
      "metadata": {
        "colab": {
          "base_uri": "https://localhost:8080/"
        },
        "id": "sfebrf-S5Jhw",
        "outputId": "18936954-4d44-43d3-85ca-4238d6e64770"
      },
      "execution_count": null,
      "outputs": [
        {
          "output_type": "execute_result",
          "data": {
            "text/plain": [
              "235.5008059101242"
            ]
          },
          "metadata": {},
          "execution_count": 34
        }
      ]
    },
    {
      "cell_type": "code",
      "source": [
        "look_back = 100\n",
        "trainPredictPlot = numpy.empty_like(df1)\n",
        "trainPredictPlot[:,:] = np.nan\n",
        "trainPredictPlot[look_back:len(train_predict)+look_back, :] = train_predict\n",
        "\n",
        "testPredictPlot = numpy.empty_like(df1)\n",
        "testPredictPlot[:,:] = np.nan\n",
        "testPredictPlot[len(train_predict) + (look_back*2)+1:len(df1)-1, :] = test_predict\n",
        "plt.plot(scaler.inverse_transform(df1))\n",
        "plt.plot(trainPredictPlot)\n",
        "plt.plot(testPredictPlot)\n",
        "plt.show()"
      ],
      "metadata": {
        "colab": {
          "base_uri": "https://localhost:8080/",
          "height": 265
        },
        "id": "uva8jeMv4xAi",
        "outputId": "ff850adf-6f20-4c3f-f396-7f0b61a85e7e"
      },
      "execution_count": null,
      "outputs": [
        {
          "output_type": "display_data",
          "data": {
            "text/plain": [
              "<Figure size 432x288 with 1 Axes>"
            ],
            "image/png": "[encoded data removed]"
          },
          "metadata": {
            "needs_background": "light"
          }
        }
      ]
    },
    {
      "cell_type": "code",
      "source": [
        "len(test_data)"
      ],
      "metadata": {
        "colab": {
          "base_uri": "https://localhost:8080/"
        },
        "id": "SRUyF1A95XtP",
        "outputId": "828016c2-23f5-428d-dbf1-9a79c04254ec"
      },
      "execution_count": null,
      "outputs": [
        {
          "output_type": "execute_result",
          "data": {
            "text/plain": [
              "441"
            ]
          },
          "metadata": {},
          "execution_count": 39
        }
      ]
    },
    {
      "cell_type": "code",
      "source": [
        "x_input = test_data[341:].reshape(1,-1)\n",
        "x_input.shape"
      ],
      "metadata": {
        "colab": {
          "base_uri": "https://localhost:8080/"
        },
        "id": "eCfziIua7STt",
        "outputId": "8c420870-33f5-4eca-f2eb-bba4afbff58e"
      },
      "execution_count": null,
      "outputs": [
        {
          "output_type": "execute_result",
          "data": {
            "text/plain": [
              "(1, 100)"
            ]
          },
          "metadata": {},
          "execution_count": 40
        }
      ]
    },
    {
      "cell_type": "code",
      "source": [
        "x_input"
      ],
      "metadata": {
        "id": "72faA5hh7XqM"
      },
      "execution_count": null,
      "outputs": []
    },
    {
      "cell_type": "code",
      "source": [
        "temp_input = list(x_input)\n",
        "temp_input"
      ],
      "metadata": {
        "id": "jOX2JEN97eu8"
      },
      "execution_count": null,
      "outputs": []
    },
    {
      "cell_type": "code",
      "source": [
        "temp_input = temp_input[0].tolist()\n",
        "temp_input"
      ],
      "metadata": {
        "id": "hHKZA4Sz7k6s"
      },
      "execution_count": null,
      "outputs": []
    },
    {
      "cell_type": "code",
      "source": [
        "from numpy import array\n",
        "lst_output = []\n",
        "n_steps = 100\n",
        "i = 0\n",
        "while i < 30:\n",
        "  if len(temp_input)>100:\n",
        "    x_input = np.array(temp_input[1:])\n",
        "    print('{} day input {}'.format(i, x_input))\n",
        "    x_input = x_input.reshape(1,-1)\n",
        "    x_input = x_input.reshape((1,n_steps,1))\n",
        "    yhat = model.predict(x_input, verbose=0)\n",
        "    print('{} day output {}'.format(i, yhat))\n",
        "    temp_input.extend(yhat[0].tolist())\n",
        "    temp_input = temp_input[1:]\n",
        "    lst_output.extend(yhat.tolist())\n",
        "    i = i + 1\n",
        "  else:\n",
        "    x_input = x_input.reshape((1, n_steps, 1))\n",
        "    yhat = model.predict(x_input, verbose=0)\n",
        "    print(yhat[0])\n",
        "    temp_input.extend(yhat[0].tolist())\n",
        "    print(len(temp_input))\n",
        "    lst_output.extend(yhat.tolist())\n",
        "    i=i+1\n",
        "print(lst_output)"
      ],
      "metadata": {
        "colab": {
          "base_uri": "https://localhost:8080/"
        },
        "id": "jrLA3W_b7r1S",
        "outputId": "7d07b30b-e605-46d2-c906-9f0b996636e3"
      },
      "execution_count": null,
      "outputs": [
        {
          "output_type": "stream",
          "name": "stdout",
          "text": [
            "[0.94316196]\n",
            "101\n",
            "1 day input [0.8866419  0.87431394 0.88431985 0.87836697 0.8986321  0.92582116\n",
            " 0.92877649 0.95676771 0.93869797 0.93304061 0.94950604 0.96424048\n",
            " 0.95512117 0.95989192 0.96635143 0.96246728 0.92295027 0.9598497\n",
            " 0.98792536 0.98594106 0.92531453 0.92172591 0.96474711 0.97572406\n",
            " 0.99159841 0.96972895 0.97614625 0.96795575 1.         0.99016297\n",
            " 0.99050072 0.96538039 0.98488559 0.97086887 0.94026007 0.87748037\n",
            " 0.83483915 0.85413324 0.77336823 0.77269273 0.88014017 0.84007431\n",
            " 0.89673225 0.85527316 0.83884995 0.74233725 0.82327113 0.78143207\n",
            " 0.6665963  0.7921557  0.64118044 0.68614371 0.66001013 0.65203074\n",
            " 0.58642236 0.56586169 0.66089673 0.65515494 0.70970193 0.66452757\n",
            " 0.69437642 0.69218104 0.63569197 0.65266402 0.63780292 0.7267162\n",
            " 0.71388162 0.74191506 0.75002111 0.77222832 0.83049059 0.8194292\n",
            " 0.8289707  0.8125475  0.78776492 0.75162543 0.78426074 0.77974331\n",
            " 0.81326522 0.8141096  0.79473106 0.83336148 0.85898843 0.83901883\n",
            " 0.85628641 0.87486279 0.88782403 0.90095415 0.92793211 0.948535\n",
            " 0.93333615 0.91746179 0.92544119 0.91771511 0.9483239  0.94064004\n",
            " 0.96635143 0.9563033  0.96491598 0.94316196]\n",
            "1 day output [[0.94024646]]\n",
            "2 day input [0.87431394 0.88431985 0.87836697 0.8986321  0.92582116 0.92877649\n",
            " 0.95676771 0.93869797 0.93304061 0.94950604 0.96424048 0.95512117\n",
            " 0.95989192 0.96635143 0.96246728 0.92295027 0.9598497  0.98792536\n",
            " 0.98594106 0.92531453 0.92172591 0.96474711 0.97572406 0.99159841\n",
            " 0.96972895 0.97614625 0.96795575 1.         0.99016297 0.99050072\n",
            " 0.96538039 0.98488559 0.97086887 0.94026007 0.87748037 0.83483915\n",
            " 0.85413324 0.77336823 0.77269273 0.88014017 0.84007431 0.89673225\n",
            " 0.85527316 0.83884995 0.74233725 0.82327113 0.78143207 0.6665963\n",
            " 0.7921557  0.64118044 0.68614371 0.66001013 0.65203074 0.58642236\n",
            " 0.56586169 0.66089673 0.65515494 0.70970193 0.66452757 0.69437642\n",
            " 0.69218104 0.63569197 0.65266402 0.63780292 0.7267162  0.71388162\n",
            " 0.74191506 0.75002111 0.77222832 0.83049059 0.8194292  0.8289707\n",
            " 0.8125475  0.78776492 0.75162543 0.78426074 0.77974331 0.81326522\n",
            " 0.8141096  0.79473106 0.83336148 0.85898843 0.83901883 0.85628641\n",
            " 0.87486279 0.88782403 0.90095415 0.92793211 0.948535   0.93333615\n",
            " 0.91746179 0.92544119 0.91771511 0.9483239  0.94064004 0.96635143\n",
            " 0.9563033  0.96491598 0.94316196 0.94024646]\n",
            "2 day output [[0.9344871]]\n",
            "3 day input [0.88431985 0.87836697 0.8986321  0.92582116 0.92877649 0.95676771\n",
            " 0.93869797 0.93304061 0.94950604 0.96424048 0.95512117 0.95989192\n",
            " 0.96635143 0.96246728 0.92295027 0.9598497  0.98792536 0.98594106\n",
            " 0.92531453 0.92172591 0.96474711 0.97572406 0.99159841 0.96972895\n",
            " 0.97614625 0.96795575 1.         0.99016297 0.99050072 0.96538039\n",
            " 0.98488559 0.97086887 0.94026007 0.87748037 0.83483915 0.85413324\n",
            " 0.77336823 0.77269273 0.88014017 0.84007431 0.89673225 0.85527316\n",
            " 0.83884995 0.74233725 0.82327113 0.78143207 0.6665963  0.7921557\n",
            " 0.64118044 0.68614371 0.66001013 0.65203074 0.58642236 0.56586169\n",
            " 0.66089673 0.65515494 0.70970193 0.66452757 0.69437642 0.69218104\n",
            " 0.63569197 0.65266402 0.63780292 0.7267162  0.71388162 0.74191506\n",
            " 0.75002111 0.77222832 0.83049059 0.8194292  0.8289707  0.8125475\n",
            " 0.78776492 0.75162543 0.78426074 0.77974331 0.81326522 0.8141096\n",
            " 0.79473106 0.83336148 0.85898843 0.83901883 0.85628641 0.87486279\n",
            " 0.88782403 0.90095415 0.92793211 0.948535   0.93333615 0.91746179\n",
            " 0.92544119 0.91771511 0.9483239  0.94064004 0.96635143 0.9563033\n",
            " 0.96491598 0.94316196 0.94024646 0.9344871 ]\n",
            "3 day output [[0.9293575]]\n",
            "4 day input [0.87836697 0.8986321  0.92582116 0.92877649 0.95676771 0.93869797\n",
            " 0.93304061 0.94950604 0.96424048 0.95512117 0.95989192 0.96635143\n",
            " 0.96246728 0.92295027 0.9598497  0.98792536 0.98594106 0.92531453\n",
            " 0.92172591 0.96474711 0.97572406 0.99159841 0.96972895 0.97614625\n",
            " 0.96795575 1.         0.99016297 0.99050072 0.96538039 0.98488559\n",
            " 0.97086887 0.94026007 0.87748037 0.83483915 0.85413324 0.77336823\n",
            " 0.77269273 0.88014017 0.84007431 0.89673225 0.85527316 0.83884995\n",
            " 0.74233725 0.82327113 0.78143207 0.6665963  0.7921557  0.64118044\n",
            " 0.68614371 0.66001013 0.65203074 0.58642236 0.56586169 0.66089673\n",
            " 0.65515494 0.70970193 0.66452757 0.69437642 0.69218104 0.63569197\n",
            " 0.65266402 0.63780292 0.7267162  0.71388162 0.74191506 0.75002111\n",
            " 0.77222832 0.83049059 0.8194292  0.8289707  0.8125475  0.78776492\n",
            " 0.75162543 0.78426074 0.77974331 0.81326522 0.8141096  0.79473106\n",
            " 0.83336148 0.85898843 0.83901883 0.85628641 0.87486279 0.88782403\n",
            " 0.90095415 0.92793211 0.948535   0.93333615 0.91746179 0.92544119\n",
            " 0.91771511 0.9483239  0.94064004 0.96635143 0.9563033  0.96491598\n",
            " 0.94316196 0.94024646 0.9344871  0.92935753]\n",
            "4 day output [[0.92596024]]\n",
            "5 day input [0.8986321  0.92582116 0.92877649 0.95676771 0.93869797 0.93304061\n",
            " 0.94950604 0.96424048 0.95512117 0.95989192 0.96635143 0.96246728\n",
            " 0.92295027 0.9598497  0.98792536 0.98594106 0.92531453 0.92172591\n",
            " 0.96474711 0.97572406 0.99159841 0.96972895 0.97614625 0.96795575\n",
            " 1.         0.99016297 0.99050072 0.96538039 0.98488559 0.97086887\n",
            " 0.94026007 0.87748037 0.83483915 0.85413324 0.77336823 0.77269273\n",
            " 0.88014017 0.84007431 0.89673225 0.85527316 0.83884995 0.74233725\n",
            " 0.82327113 0.78143207 0.6665963  0.7921557  0.64118044 0.68614371\n",
            " 0.66001013 0.65203074 0.58642236 0.56586169 0.66089673 0.65515494\n",
            " 0.70970193 0.66452757 0.69437642 0.69218104 0.63569197 0.65266402\n",
            " 0.63780292 0.7267162  0.71388162 0.74191506 0.75002111 0.77222832\n",
            " 0.83049059 0.8194292  0.8289707  0.8125475  0.78776492 0.75162543\n",
            " 0.78426074 0.77974331 0.81326522 0.8141096  0.79473106 0.83336148\n",
            " 0.85898843 0.83901883 0.85628641 0.87486279 0.88782403 0.90095415\n",
            " 0.92793211 0.948535   0.93333615 0.91746179 0.92544119 0.91771511\n",
            " 0.9483239  0.94064004 0.96635143 0.9563033  0.96491598 0.94316196\n",
            " 0.94024646 0.9344871  0.92935753 0.92596024]\n",
            "5 day output [[0.92433184]]\n",
            "6 day input [0.92582116 0.92877649 0.95676771 0.93869797 0.93304061 0.94950604\n",
            " 0.96424048 0.95512117 0.95989192 0.96635143 0.96246728 0.92295027\n",
            " 0.9598497  0.98792536 0.98594106 0.92531453 0.92172591 0.96474711\n",
            " 0.97572406 0.99159841 0.96972895 0.97614625 0.96795575 1.\n",
            " 0.99016297 0.99050072 0.96538039 0.98488559 0.97086887 0.94026007\n",
            " 0.87748037 0.83483915 0.85413324 0.77336823 0.77269273 0.88014017\n",
            " 0.84007431 0.89673225 0.85527316 0.83884995 0.74233725 0.82327113\n",
            " 0.78143207 0.6665963  0.7921557  0.64118044 0.68614371 0.66001013\n",
            " 0.65203074 0.58642236 0.56586169 0.66089673 0.65515494 0.70970193\n",
            " 0.66452757 0.69437642 0.69218104 0.63569197 0.65266402 0.63780292\n",
            " 0.7267162  0.71388162 0.74191506 0.75002111 0.77222832 0.83049059\n",
            " 0.8194292  0.8289707  0.8125475  0.78776492 0.75162543 0.78426074\n",
            " 0.77974331 0.81326522 0.8141096  0.79473106 0.83336148 0.85898843\n",
            " 0.83901883 0.85628641 0.87486279 0.88782403 0.90095415 0.92793211\n",
            " 0.948535   0.93333615 0.91746179 0.92544119 0.91771511 0.9483239\n",
            " 0.94064004 0.96635143 0.9563033  0.96491598 0.94316196 0.94024646\n",
            " 0.9344871  0.92935753 0.92596024 0.92433184]\n",
            "6 day output [[0.9241517]]\n",
            "7 day input [0.92877649 0.95676771 0.93869797 0.93304061 0.94950604 0.96424048\n",
            " 0.95512117 0.95989192 0.96635143 0.96246728 0.92295027 0.9598497\n",
            " 0.98792536 0.98594106 0.92531453 0.92172591 0.96474711 0.97572406\n",
            " 0.99159841 0.96972895 0.97614625 0.96795575 1.         0.99016297\n",
            " 0.99050072 0.96538039 0.98488559 0.97086887 0.94026007 0.87748037\n",
            " 0.83483915 0.85413324 0.77336823 0.77269273 0.88014017 0.84007431\n",
            " 0.89673225 0.85527316 0.83884995 0.74233725 0.82327113 0.78143207\n",
            " 0.6665963  0.7921557  0.64118044 0.68614371 0.66001013 0.65203074\n",
            " 0.58642236 0.56586169 0.66089673 0.65515494 0.70970193 0.66452757\n",
            " 0.69437642 0.69218104 0.63569197 0.65266402 0.63780292 0.7267162\n",
            " 0.71388162 0.74191506 0.75002111 0.77222832 0.83049059 0.8194292\n",
            " 0.8289707  0.8125475  0.78776492 0.75162543 0.78426074 0.77974331\n",
            " 0.81326522 0.8141096  0.79473106 0.83336148 0.85898843 0.83901883\n",
            " 0.85628641 0.87486279 0.88782403 0.90095415 0.92793211 0.948535\n",
            " 0.93333615 0.91746179 0.92544119 0.91771511 0.9483239  0.94064004\n",
            " 0.96635143 0.9563033  0.96491598 0.94316196 0.94024646 0.9344871\n",
            " 0.92935753 0.92596024 0.92433184 0.92415172]\n",
            "7 day output [[0.92500526]]\n",
            "8 day input [0.95676771 0.93869797 0.93304061 0.94950604 0.96424048 0.95512117\n",
            " 0.95989192 0.96635143 0.96246728 0.92295027 0.9598497  0.98792536\n",
            " 0.98594106 0.92531453 0.92172591 0.96474711 0.97572406 0.99159841\n",
            " 0.96972895 0.97614625 0.96795575 1.         0.99016297 0.99050072\n",
            " 0.96538039 0.98488559 0.97086887 0.94026007 0.87748037 0.83483915\n",
            " 0.85413324 0.77336823 0.77269273 0.88014017 0.84007431 0.89673225\n",
            " 0.85527316 0.83884995 0.74233725 0.82327113 0.78143207 0.6665963\n",
            " 0.7921557  0.64118044 0.68614371 0.66001013 0.65203074 0.58642236\n",
            " 0.56586169 0.66089673 0.65515494 0.70970193 0.66452757 0.69437642\n",
            " 0.69218104 0.63569197 0.65266402 0.63780292 0.7267162  0.71388162\n",
            " 0.74191506 0.75002111 0.77222832 0.83049059 0.8194292  0.8289707\n",
            " 0.8125475  0.78776492 0.75162543 0.78426074 0.77974331 0.81326522\n",
            " 0.8141096  0.79473106 0.83336148 0.85898843 0.83901883 0.85628641\n",
            " 0.87486279 0.88782403 0.90095415 0.92793211 0.948535   0.93333615\n",
            " 0.91746179 0.92544119 0.91771511 0.9483239  0.94064004 0.96635143\n",
            " 0.9563033  0.96491598 0.94316196 0.94024646 0.9344871  0.92935753\n",
            " 0.92596024 0.92433184 0.92415172 0.92500526]\n",
            "8 day output [[0.92648405]]\n",
            "9 day input [0.93869797 0.93304061 0.94950604 0.96424048 0.95512117 0.95989192\n",
            " 0.96635143 0.96246728 0.92295027 0.9598497  0.98792536 0.98594106\n",
            " 0.92531453 0.92172591 0.96474711 0.97572406 0.99159841 0.96972895\n",
            " 0.97614625 0.96795575 1.         0.99016297 0.99050072 0.96538039\n",
            " 0.98488559 0.97086887 0.94026007 0.87748037 0.83483915 0.85413324\n",
            " 0.77336823 0.77269273 0.88014017 0.84007431 0.89673225 0.85527316\n",
            " 0.83884995 0.74233725 0.82327113 0.78143207 0.6665963  0.7921557\n",
            " 0.64118044 0.68614371 0.66001013 0.65203074 0.58642236 0.56586169\n",
            " 0.66089673 0.65515494 0.70970193 0.66452757 0.69437642 0.69218104\n",
            " 0.63569197 0.65266402 0.63780292 0.7267162  0.71388162 0.74191506\n",
            " 0.75002111 0.77222832 0.83049059 0.8194292  0.8289707  0.8125475\n",
            " 0.78776492 0.75162543 0.78426074 0.77974331 0.81326522 0.8141096\n",
            " 0.79473106 0.83336148 0.85898843 0.83901883 0.85628641 0.87486279\n",
            " 0.88782403 0.90095415 0.92793211 0.948535   0.93333615 0.91746179\n",
            " 0.92544119 0.91771511 0.9483239  0.94064004 0.96635143 0.9563033\n",
            " 0.96491598 0.94316196 0.94024646 0.9344871  0.92935753 0.92596024\n",
            " 0.92433184 0.92415172 0.92500526 0.92648405]\n",
            "9 day output [[0.9282371]]\n",
            "10 day input [0.93304061 0.94950604 0.96424048 0.95512117 0.95989192 0.96635143\n",
            " 0.96246728 0.92295027 0.9598497  0.98792536 0.98594106 0.92531453\n",
            " 0.92172591 0.96474711 0.97572406 0.99159841 0.96972895 0.97614625\n",
            " 0.96795575 1.         0.99016297 0.99050072 0.96538039 0.98488559\n",
            " 0.97086887 0.94026007 0.87748037 0.83483915 0.85413324 0.77336823\n",
            " 0.77269273 0.88014017 0.84007431 0.89673225 0.85527316 0.83884995\n",
            " 0.74233725 0.82327113 0.78143207 0.6665963  0.7921557  0.64118044\n",
            " 0.68614371 0.66001013 0.65203074 0.58642236 0.56586169 0.66089673\n",
            " 0.65515494 0.70970193 0.66452757 0.69437642 0.69218104 0.63569197\n",
            " 0.65266402 0.63780292 0.7267162  0.71388162 0.74191506 0.75002111\n",
            " 0.77222832 0.83049059 0.8194292  0.8289707  0.8125475  0.78776492\n",
            " 0.75162543 0.78426074 0.77974331 0.81326522 0.8141096  0.79473106\n",
            " 0.83336148 0.85898843 0.83901883 0.85628641 0.87486279 0.88782403\n",
            " 0.90095415 0.92793211 0.948535   0.93333615 0.91746179 0.92544119\n",
            " 0.91771511 0.9483239  0.94064004 0.96635143 0.9563033  0.96491598\n",
            " 0.94316196 0.94024646 0.9344871  0.92935753 0.92596024 0.92433184\n",
            " 0.92415172 0.92500526 0.92648405 0.92823708]\n",
            "10 day output [[0.9299998]]\n",
            "11 day input [0.94950604 0.96424048 0.95512117 0.95989192 0.96635143 0.96246728\n",
            " 0.92295027 0.9598497  0.98792536 0.98594106 0.92531453 0.92172591\n",
            " 0.96474711 0.97572406 0.99159841 0.96972895 0.97614625 0.96795575\n",
            " 1.         0.99016297 0.99050072 0.96538039 0.98488559 0.97086887\n",
            " 0.94026007 0.87748037 0.83483915 0.85413324 0.77336823 0.77269273\n",
            " 0.88014017 0.84007431 0.89673225 0.85527316 0.83884995 0.74233725\n",
            " 0.82327113 0.78143207 0.6665963  0.7921557  0.64118044 0.68614371\n",
            " 0.66001013 0.65203074 0.58642236 0.56586169 0.66089673 0.65515494\n",
            " 0.70970193 0.66452757 0.69437642 0.69218104 0.63569197 0.65266402\n",
            " 0.63780292 0.7267162  0.71388162 0.74191506 0.75002111 0.77222832\n",
            " 0.83049059 0.8194292  0.8289707  0.8125475  0.78776492 0.75162543\n",
            " 0.78426074 0.77974331 0.81326522 0.8141096  0.79473106 0.83336148\n",
            " 0.85898843 0.83901883 0.85628641 0.87486279 0.88782403 0.90095415\n",
            " 0.92793211 0.948535   0.93333615 0.91746179 0.92544119 0.91771511\n",
            " 0.9483239  0.94064004 0.96635143 0.9563033  0.96491598 0.94316196\n",
            " 0.94024646 0.9344871  0.92935753 0.92596024 0.92433184 0.92415172\n",
            " 0.92500526 0.92648405 0.92823708 0.92999983]\n",
            "11 day output [[0.9316009]]\n",
            "12 day input [0.96424048 0.95512117 0.95989192 0.96635143 0.96246728 0.92295027\n",
            " 0.9598497  0.98792536 0.98594106 0.92531453 0.92172591 0.96474711\n",
            " 0.97572406 0.99159841 0.96972895 0.97614625 0.96795575 1.\n",
            " 0.99016297 0.99050072 0.96538039 0.98488559 0.97086887 0.94026007\n",
            " 0.87748037 0.83483915 0.85413324 0.77336823 0.77269273 0.88014017\n",
            " 0.84007431 0.89673225 0.85527316 0.83884995 0.74233725 0.82327113\n",
            " 0.78143207 0.6665963  0.7921557  0.64118044 0.68614371 0.66001013\n",
            " 0.65203074 0.58642236 0.56586169 0.66089673 0.65515494 0.70970193\n",
            " 0.66452757 0.69437642 0.69218104 0.63569197 0.65266402 0.63780292\n",
            " 0.7267162  0.71388162 0.74191506 0.75002111 0.77222832 0.83049059\n",
            " 0.8194292  0.8289707  0.8125475  0.78776492 0.75162543 0.78426074\n",
            " 0.77974331 0.81326522 0.8141096  0.79473106 0.83336148 0.85898843\n",
            " 0.83901883 0.85628641 0.87486279 0.88782403 0.90095415 0.92793211\n",
            " 0.948535   0.93333615 0.91746179 0.92544119 0.91771511 0.9483239\n",
            " 0.94064004 0.96635143 0.9563033  0.96491598 0.94316196 0.94024646\n",
            " 0.9344871  0.92935753 0.92596024 0.92433184 0.92415172 0.92500526\n",
            " 0.92648405 0.92823708 0.92999983 0.93160093]\n",
            "12 day output [[0.9329563]]\n",
            "13 day input [0.95512117 0.95989192 0.96635143 0.96246728 0.92295027 0.9598497\n",
            " 0.98792536 0.98594106 0.92531453 0.92172591 0.96474711 0.97572406\n",
            " 0.99159841 0.96972895 0.97614625 0.96795575 1.         0.99016297\n",
            " 0.99050072 0.96538039 0.98488559 0.97086887 0.94026007 0.87748037\n",
            " 0.83483915 0.85413324 0.77336823 0.77269273 0.88014017 0.84007431\n",
            " 0.89673225 0.85527316 0.83884995 0.74233725 0.82327113 0.78143207\n",
            " 0.6665963  0.7921557  0.64118044 0.68614371 0.66001013 0.65203074\n",
            " 0.58642236 0.56586169 0.66089673 0.65515494 0.70970193 0.66452757\n",
            " 0.69437642 0.69218104 0.63569197 0.65266402 0.63780292 0.7267162\n",
            " 0.71388162 0.74191506 0.75002111 0.77222832 0.83049059 0.8194292\n",
            " 0.8289707  0.8125475  0.78776492 0.75162543 0.78426074 0.77974331\n",
            " 0.81326522 0.8141096  0.79473106 0.83336148 0.85898843 0.83901883\n",
            " 0.85628641 0.87486279 0.88782403 0.90095415 0.92793211 0.948535\n",
            " 0.93333615 0.91746179 0.92544119 0.91771511 0.9483239  0.94064004\n",
            " 0.96635143 0.9563033  0.96491598 0.94316196 0.94024646 0.9344871\n",
            " 0.92935753 0.92596024 0.92433184 0.92415172 0.92500526 0.92648405\n",
            " 0.92823708 0.92999983 0.93160093 0.93295628]\n",
            "13 day output [[0.934051]]\n",
            "14 day input [0.95989192 0.96635143 0.96246728 0.92295027 0.9598497  0.98792536\n",
            " 0.98594106 0.92531453 0.92172591 0.96474711 0.97572406 0.99159841\n",
            " 0.96972895 0.97614625 0.96795575 1.         0.99016297 0.99050072\n",
            " 0.96538039 0.98488559 0.97086887 0.94026007 0.87748037 0.83483915\n",
            " 0.85413324 0.77336823 0.77269273 0.88014017 0.84007431 0.89673225\n",
            " 0.85527316 0.83884995 0.74233725 0.82327113 0.78143207 0.6665963\n",
            " 0.7921557  0.64118044 0.68614371 0.66001013 0.65203074 0.58642236\n",
            " 0.56586169 0.66089673 0.65515494 0.70970193 0.66452757 0.69437642\n",
            " 0.69218104 0.63569197 0.65266402 0.63780292 0.7267162  0.71388162\n",
            " 0.74191506 0.75002111 0.77222832 0.83049059 0.8194292  0.8289707\n",
            " 0.8125475  0.78776492 0.75162543 0.78426074 0.77974331 0.81326522\n",
            " 0.8141096  0.79473106 0.83336148 0.85898843 0.83901883 0.85628641\n",
            " 0.87486279 0.88782403 0.90095415 0.92793211 0.948535   0.93333615\n",
            " 0.91746179 0.92544119 0.91771511 0.9483239  0.94064004 0.96635143\n",
            " 0.9563033  0.96491598 0.94316196 0.94024646 0.9344871  0.92935753\n",
            " 0.92596024 0.92433184 0.92415172 0.92500526 0.92648405 0.92823708\n",
            " 0.92999983 0.93160093 0.93295628 0.93405098]\n",
            "14 day output [[0.9349162]]\n",
            "15 day input [0.96635143 0.96246728 0.92295027 0.9598497  0.98792536 0.98594106\n",
            " 0.92531453 0.92172591 0.96474711 0.97572406 0.99159841 0.96972895\n",
            " 0.97614625 0.96795575 1.         0.99016297 0.99050072 0.96538039\n",
            " 0.98488559 0.97086887 0.94026007 0.87748037 0.83483915 0.85413324\n",
            " 0.77336823 0.77269273 0.88014017 0.84007431 0.89673225 0.85527316\n",
            " 0.83884995 0.74233725 0.82327113 0.78143207 0.6665963  0.7921557\n",
            " 0.64118044 0.68614371 0.66001013 0.65203074 0.58642236 0.56586169\n",
            " 0.66089673 0.65515494 0.70970193 0.66452757 0.69437642 0.69218104\n",
            " 0.63569197 0.65266402 0.63780292 0.7267162  0.71388162 0.74191506\n",
            " 0.75002111 0.77222832 0.83049059 0.8194292  0.8289707  0.8125475\n",
            " 0.78776492 0.75162543 0.78426074 0.77974331 0.81326522 0.8141096\n",
            " 0.79473106 0.83336148 0.85898843 0.83901883 0.85628641 0.87486279\n",
            " 0.88782403 0.90095415 0.92793211 0.948535   0.93333615 0.91746179\n",
            " 0.92544119 0.91771511 0.9483239  0.94064004 0.96635143 0.9563033\n",
            " 0.96491598 0.94316196 0.94024646 0.9344871  0.92935753 0.92596024\n",
            " 0.92433184 0.92415172 0.92500526 0.92648405 0.92823708 0.92999983\n",
            " 0.93160093 0.93295628 0.93405098 0.9349162 ]\n",
            "15 day output [[0.9356091]]\n",
            "16 day input [0.96246728 0.92295027 0.9598497  0.98792536 0.98594106 0.92531453\n",
            " 0.92172591 0.96474711 0.97572406 0.99159841 0.96972895 0.97614625\n",
            " 0.96795575 1.         0.99016297 0.99050072 0.96538039 0.98488559\n",
            " 0.97086887 0.94026007 0.87748037 0.83483915 0.85413324 0.77336823\n",
            " 0.77269273 0.88014017 0.84007431 0.89673225 0.85527316 0.83884995\n",
            " 0.74233725 0.82327113 0.78143207 0.6665963  0.7921557  0.64118044\n",
            " 0.68614371 0.66001013 0.65203074 0.58642236 0.56586169 0.66089673\n",
            " 0.65515494 0.70970193 0.66452757 0.69437642 0.69218104 0.63569197\n",
            " 0.65266402 0.63780292 0.7267162  0.71388162 0.74191506 0.75002111\n",
            " 0.77222832 0.83049059 0.8194292  0.8289707  0.8125475  0.78776492\n",
            " 0.75162543 0.78426074 0.77974331 0.81326522 0.8141096  0.79473106\n",
            " 0.83336148 0.85898843 0.83901883 0.85628641 0.87486279 0.88782403\n",
            " 0.90095415 0.92793211 0.948535   0.93333615 0.91746179 0.92544119\n",
            " 0.91771511 0.9483239  0.94064004 0.96635143 0.9563033  0.96491598\n",
            " 0.94316196 0.94024646 0.9344871  0.92935753 0.92596024 0.92433184\n",
            " 0.92415172 0.92500526 0.92648405 0.92823708 0.92999983 0.93160093\n",
            " 0.93295628 0.93405098 0.9349162  0.9356091 ]\n",
            "16 day output [[0.93619335]]\n",
            "17 day input [0.92295027 0.9598497  0.98792536 0.98594106 0.92531453 0.92172591\n",
            " 0.96474711 0.97572406 0.99159841 0.96972895 0.97614625 0.96795575\n",
            " 1.         0.99016297 0.99050072 0.96538039 0.98488559 0.97086887\n",
            " 0.94026007 0.87748037 0.83483915 0.85413324 0.77336823 0.77269273\n",
            " 0.88014017 0.84007431 0.89673225 0.85527316 0.83884995 0.74233725\n",
            " 0.82327113 0.78143207 0.6665963  0.7921557  0.64118044 0.68614371\n",
            " 0.66001013 0.65203074 0.58642236 0.56586169 0.66089673 0.65515494\n",
            " 0.70970193 0.66452757 0.69437642 0.69218104 0.63569197 0.65266402\n",
            " 0.63780292 0.7267162  0.71388162 0.74191506 0.75002111 0.77222832\n",
            " 0.83049059 0.8194292  0.8289707  0.8125475  0.78776492 0.75162543\n",
            " 0.78426074 0.77974331 0.81326522 0.8141096  0.79473106 0.83336148\n",
            " 0.85898843 0.83901883 0.85628641 0.87486279 0.88782403 0.90095415\n",
            " 0.92793211 0.948535   0.93333615 0.91746179 0.92544119 0.91771511\n",
            " 0.9483239  0.94064004 0.96635143 0.9563033  0.96491598 0.94316196\n",
            " 0.94024646 0.9344871  0.92935753 0.92596024 0.92433184 0.92415172\n",
            " 0.92500526 0.92648405 0.92823708 0.92999983 0.93160093 0.93295628\n",
            " 0.93405098 0.9349162  0.9356091  0.93619335]\n",
            "17 day output [[0.93672705]]\n",
            "18 day input [0.9598497  0.98792536 0.98594106 0.92531453 0.92172591 0.96474711\n",
            " 0.97572406 0.99159841 0.96972895 0.97614625 0.96795575 1.\n",
            " 0.99016297 0.99050072 0.96538039 0.98488559 0.97086887 0.94026007\n",
            " 0.87748037 0.83483915 0.85413324 0.77336823 0.77269273 0.88014017\n",
            " 0.84007431 0.89673225 0.85527316 0.83884995 0.74233725 0.82327113\n",
            " 0.78143207 0.6665963  0.7921557  0.64118044 0.68614371 0.66001013\n",
            " 0.65203074 0.58642236 0.56586169 0.66089673 0.65515494 0.70970193\n",
            " 0.66452757 0.69437642 0.69218104 0.63569197 0.65266402 0.63780292\n",
            " 0.7267162  0.71388162 0.74191506 0.75002111 0.77222832 0.83049059\n",
            " 0.8194292  0.8289707  0.8125475  0.78776492 0.75162543 0.78426074\n",
            " 0.77974331 0.81326522 0.8141096  0.79473106 0.83336148 0.85898843\n",
            " 0.83901883 0.85628641 0.87486279 0.88782403 0.90095415 0.92793211\n",
            " 0.948535   0.93333615 0.91746179 0.92544119 0.91771511 0.9483239\n",
            " 0.94064004 0.96635143 0.9563033  0.96491598 0.94316196 0.94024646\n",
            " 0.9344871  0.92935753 0.92596024 0.92433184 0.92415172 0.92500526\n",
            " 0.92648405 0.92823708 0.92999983 0.93160093 0.93295628 0.93405098\n",
            " 0.9349162  0.9356091  0.93619335 0.93672705]\n",
            "18 day output [[0.9372559]]\n",
            "19 day input [0.98792536 0.98594106 0.92531453 0.92172591 0.96474711 0.97572406\n",
            " 0.99159841 0.96972895 0.97614625 0.96795575 1.         0.99016297\n",
            " 0.99050072 0.96538039 0.98488559 0.97086887 0.94026007 0.87748037\n",
            " 0.83483915 0.85413324 0.77336823 0.77269273 0.88014017 0.84007431\n",
            " 0.89673225 0.85527316 0.83884995 0.74233725 0.82327113 0.78143207\n",
            " 0.6665963  0.7921557  0.64118044 0.68614371 0.66001013 0.65203074\n",
            " 0.58642236 0.56586169 0.66089673 0.65515494 0.70970193 0.66452757\n",
            " 0.69437642 0.69218104 0.63569197 0.65266402 0.63780292 0.7267162\n",
            " 0.71388162 0.74191506 0.75002111 0.77222832 0.83049059 0.8194292\n",
            " 0.8289707  0.8125475  0.78776492 0.75162543 0.78426074 0.77974331\n",
            " 0.81326522 0.8141096  0.79473106 0.83336148 0.85898843 0.83901883\n",
            " 0.85628641 0.87486279 0.88782403 0.90095415 0.92793211 0.948535\n",
            " 0.93333615 0.91746179 0.92544119 0.91771511 0.9483239  0.94064004\n",
            " 0.96635143 0.9563033  0.96491598 0.94316196 0.94024646 0.9344871\n",
            " 0.92935753 0.92596024 0.92433184 0.92415172 0.92500526 0.92648405\n",
            " 0.92823708 0.92999983 0.93160093 0.93295628 0.93405098 0.9349162\n",
            " 0.9356091  0.93619335 0.93672705 0.93725592]\n",
            "19 day output [[0.9378095]]\n",
            "20 day input [0.98594106 0.92531453 0.92172591 0.96474711 0.97572406 0.99159841\n",
            " 0.96972895 0.97614625 0.96795575 1.         0.99016297 0.99050072\n",
            " 0.96538039 0.98488559 0.97086887 0.94026007 0.87748037 0.83483915\n",
            " 0.85413324 0.77336823 0.77269273 0.88014017 0.84007431 0.89673225\n",
            " 0.85527316 0.83884995 0.74233725 0.82327113 0.78143207 0.6665963\n",
            " 0.7921557  0.64118044 0.68614371 0.66001013 0.65203074 0.58642236\n",
            " 0.56586169 0.66089673 0.65515494 0.70970193 0.66452757 0.69437642\n",
            " 0.69218104 0.63569197 0.65266402 0.63780292 0.7267162  0.71388162\n",
            " 0.74191506 0.75002111 0.77222832 0.83049059 0.8194292  0.8289707\n",
            " 0.8125475  0.78776492 0.75162543 0.78426074 0.77974331 0.81326522\n",
            " 0.8141096  0.79473106 0.83336148 0.85898843 0.83901883 0.85628641\n",
            " 0.87486279 0.88782403 0.90095415 0.92793211 0.948535   0.93333615\n",
            " 0.91746179 0.92544119 0.91771511 0.9483239  0.94064004 0.96635143\n",
            " 0.9563033  0.96491598 0.94316196 0.94024646 0.9344871  0.92935753\n",
            " 0.92596024 0.92433184 0.92415172 0.92500526 0.92648405 0.92823708\n",
            " 0.92999983 0.93160093 0.93295628 0.93405098 0.9349162  0.9356091\n",
            " 0.93619335 0.93672705 0.93725592 0.93780953]\n",
            "20 day output [[0.9384033]]\n",
            "21 day input [0.92531453 0.92172591 0.96474711 0.97572406 0.99159841 0.96972895\n",
            " 0.97614625 0.96795575 1.         0.99016297 0.99050072 0.96538039\n",
            " 0.98488559 0.97086887 0.94026007 0.87748037 0.83483915 0.85413324\n",
            " 0.77336823 0.77269273 0.88014017 0.84007431 0.89673225 0.85527316\n",
            " 0.83884995 0.74233725 0.82327113 0.78143207 0.6665963  0.7921557\n",
            " 0.64118044 0.68614371 0.66001013 0.65203074 0.58642236 0.56586169\n",
            " 0.66089673 0.65515494 0.70970193 0.66452757 0.69437642 0.69218104\n",
            " 0.63569197 0.65266402 0.63780292 0.7267162  0.71388162 0.74191506\n",
            " 0.75002111 0.77222832 0.83049059 0.8194292  0.8289707  0.8125475\n",
            " 0.78776492 0.75162543 0.78426074 0.77974331 0.81326522 0.8141096\n",
            " 0.79473106 0.83336148 0.85898843 0.83901883 0.85628641 0.87486279\n",
            " 0.88782403 0.90095415 0.92793211 0.948535   0.93333615 0.91746179\n",
            " 0.92544119 0.91771511 0.9483239  0.94064004 0.96635143 0.9563033\n",
            " 0.96491598 0.94316196 0.94024646 0.9344871  0.92935753 0.92596024\n",
            " 0.92433184 0.92415172 0.92500526 0.92648405 0.92823708 0.92999983\n",
            " 0.93160093 0.93295628 0.93405098 0.9349162  0.9356091  0.93619335\n",
            " 0.93672705 0.93725592 0.93780953 0.93840331]\n",
            "21 day output [[0.93904006]]\n",
            "22 day input [0.92172591 0.96474711 0.97572406 0.99159841 0.96972895 0.97614625\n",
            " 0.96795575 1.         0.99016297 0.99050072 0.96538039 0.98488559\n",
            " 0.97086887 0.94026007 0.87748037 0.83483915 0.85413324 0.77336823\n",
            " 0.77269273 0.88014017 0.84007431 0.89673225 0.85527316 0.83884995\n",
            " 0.74233725 0.82327113 0.78143207 0.6665963  0.7921557  0.64118044\n",
            " 0.68614371 0.66001013 0.65203074 0.58642236 0.56586169 0.66089673\n",
            " 0.65515494 0.70970193 0.66452757 0.69437642 0.69218104 0.63569197\n",
            " 0.65266402 0.63780292 0.7267162  0.71388162 0.74191506 0.75002111\n",
            " 0.77222832 0.83049059 0.8194292  0.8289707  0.8125475  0.78776492\n",
            " 0.75162543 0.78426074 0.77974331 0.81326522 0.8141096  0.79473106\n",
            " 0.83336148 0.85898843 0.83901883 0.85628641 0.87486279 0.88782403\n",
            " 0.90095415 0.92793211 0.948535   0.93333615 0.91746179 0.92544119\n",
            " 0.91771511 0.9483239  0.94064004 0.96635143 0.9563033  0.96491598\n",
            " 0.94316196 0.94024646 0.9344871  0.92935753 0.92596024 0.92433184\n",
            " 0.92415172 0.92500526 0.92648405 0.92823708 0.92999983 0.93160093\n",
            " 0.93295628 0.93405098 0.9349162  0.9356091  0.93619335 0.93672705\n",
            " 0.93725592 0.93780953 0.93840331 0.93904006]\n",
            "22 day output [[0.93971527]]\n",
            "23 day input [0.96474711 0.97572406 0.99159841 0.96972895 0.97614625 0.96795575\n",
            " 1.         0.99016297 0.99050072 0.96538039 0.98488559 0.97086887\n",
            " 0.94026007 0.87748037 0.83483915 0.85413324 0.77336823 0.77269273\n",
            " 0.88014017 0.84007431 0.89673225 0.85527316 0.83884995 0.74233725\n",
            " 0.82327113 0.78143207 0.6665963  0.7921557  0.64118044 0.68614371\n",
            " 0.66001013 0.65203074 0.58642236 0.56586169 0.66089673 0.65515494\n",
            " 0.70970193 0.66452757 0.69437642 0.69218104 0.63569197 0.65266402\n",
            " 0.63780292 0.7267162  0.71388162 0.74191506 0.75002111 0.77222832\n",
            " 0.83049059 0.8194292  0.8289707  0.8125475  0.78776492 0.75162543\n",
            " 0.78426074 0.77974331 0.81326522 0.8141096  0.79473106 0.83336148\n",
            " 0.85898843 0.83901883 0.85628641 0.87486279 0.88782403 0.90095415\n",
            " 0.92793211 0.948535   0.93333615 0.91746179 0.92544119 0.91771511\n",
            " 0.9483239  0.94064004 0.96635143 0.9563033  0.96491598 0.94316196\n",
            " 0.94024646 0.9344871  0.92935753 0.92596024 0.92433184 0.92415172\n",
            " 0.92500526 0.92648405 0.92823708 0.92999983 0.93160093 0.93295628\n",
            " 0.93405098 0.9349162  0.9356091  0.93619335 0.93672705 0.93725592\n",
            " 0.93780953 0.93840331 0.93904006 0.93971527]\n",
            "23 day output [[0.94041973]]\n",
            "24 day input [0.97572406 0.99159841 0.96972895 0.97614625 0.96795575 1.\n",
            " 0.99016297 0.99050072 0.96538039 0.98488559 0.97086887 0.94026007\n",
            " 0.87748037 0.83483915 0.85413324 0.77336823 0.77269273 0.88014017\n",
            " 0.84007431 0.89673225 0.85527316 0.83884995 0.74233725 0.82327113\n",
            " 0.78143207 0.6665963  0.7921557  0.64118044 0.68614371 0.66001013\n",
            " 0.65203074 0.58642236 0.56586169 0.66089673 0.65515494 0.70970193\n",
            " 0.66452757 0.69437642 0.69218104 0.63569197 0.65266402 0.63780292\n",
            " 0.7267162  0.71388162 0.74191506 0.75002111 0.77222832 0.83049059\n",
            " 0.8194292  0.8289707  0.8125475  0.78776492 0.75162543 0.78426074\n",
            " 0.77974331 0.81326522 0.8141096  0.79473106 0.83336148 0.85898843\n",
            " 0.83901883 0.85628641 0.87486279 0.88782403 0.90095415 0.92793211\n",
            " 0.948535   0.93333615 0.91746179 0.92544119 0.91771511 0.9483239\n",
            " 0.94064004 0.96635143 0.9563033  0.96491598 0.94316196 0.94024646\n",
            " 0.9344871  0.92935753 0.92596024 0.92433184 0.92415172 0.92500526\n",
            " 0.92648405 0.92823708 0.92999983 0.93160093 0.93295628 0.93405098\n",
            " 0.9349162  0.9356091  0.93619335 0.93672705 0.93725592 0.93780953\n",
            " 0.93840331 0.93904006 0.93971527 0.94041973]\n",
            "24 day output [[0.94114304]]\n",
            "25 day input [0.99159841 0.96972895 0.97614625 0.96795575 1.         0.99016297\n",
            " 0.99050072 0.96538039 0.98488559 0.97086887 0.94026007 0.87748037\n",
            " 0.83483915 0.85413324 0.77336823 0.77269273 0.88014017 0.84007431\n",
            " 0.89673225 0.85527316 0.83884995 0.74233725 0.82327113 0.78143207\n",
            " 0.6665963  0.7921557  0.64118044 0.68614371 0.66001013 0.65203074\n",
            " 0.58642236 0.56586169 0.66089673 0.65515494 0.70970193 0.66452757\n",
            " 0.69437642 0.69218104 0.63569197 0.65266402 0.63780292 0.7267162\n",
            " 0.71388162 0.74191506 0.75002111 0.77222832 0.83049059 0.8194292\n",
            " 0.8289707  0.8125475  0.78776492 0.75162543 0.78426074 0.77974331\n",
            " 0.81326522 0.8141096  0.79473106 0.83336148 0.85898843 0.83901883\n",
            " 0.85628641 0.87486279 0.88782403 0.90095415 0.92793211 0.948535\n",
            " 0.93333615 0.91746179 0.92544119 0.91771511 0.9483239  0.94064004\n",
            " 0.96635143 0.9563033  0.96491598 0.94316196 0.94024646 0.9344871\n",
            " 0.92935753 0.92596024 0.92433184 0.92415172 0.92500526 0.92648405\n",
            " 0.92823708 0.92999983 0.93160093 0.93295628 0.93405098 0.9349162\n",
            " 0.9356091  0.93619335 0.93672705 0.93725592 0.93780953 0.93840331\n",
            " 0.93904006 0.93971527 0.94041973 0.94114304]\n",
            "25 day output [[0.9418754]]\n",
            "26 day input [0.96972895 0.97614625 0.96795575 1.         0.99016297 0.99050072\n",
            " 0.96538039 0.98488559 0.97086887 0.94026007 0.87748037 0.83483915\n",
            " 0.85413324 0.77336823 0.77269273 0.88014017 0.84007431 0.89673225\n",
            " 0.85527316 0.83884995 0.74233725 0.82327113 0.78143207 0.6665963\n",
            " 0.7921557  0.64118044 0.68614371 0.66001013 0.65203074 0.58642236\n",
            " 0.56586169 0.66089673 0.65515494 0.70970193 0.66452757 0.69437642\n",
            " 0.69218104 0.63569197 0.65266402 0.63780292 0.7267162  0.71388162\n",
            " 0.74191506 0.75002111 0.77222832 0.83049059 0.8194292  0.8289707\n",
            " 0.8125475  0.78776492 0.75162543 0.78426074 0.77974331 0.81326522\n",
            " 0.8141096  0.79473106 0.83336148 0.85898843 0.83901883 0.85628641\n",
            " 0.87486279 0.88782403 0.90095415 0.92793211 0.948535   0.93333615\n",
            " 0.91746179 0.92544119 0.91771511 0.9483239  0.94064004 0.96635143\n",
            " 0.9563033  0.96491598 0.94316196 0.94024646 0.9344871  0.92935753\n",
            " 0.92596024 0.92433184 0.92415172 0.92500526 0.92648405 0.92823708\n",
            " 0.92999983 0.93160093 0.93295628 0.93405098 0.9349162  0.9356091\n",
            " 0.93619335 0.93672705 0.93725592 0.93780953 0.93840331 0.93904006\n",
            " 0.93971527 0.94041973 0.94114304 0.9418754 ]\n",
            "26 day output [[0.9426094]]\n",
            "27 day input [0.97614625 0.96795575 1.         0.99016297 0.99050072 0.96538039\n",
            " 0.98488559 0.97086887 0.94026007 0.87748037 0.83483915 0.85413324\n",
            " 0.77336823 0.77269273 0.88014017 0.84007431 0.89673225 0.85527316\n",
            " 0.83884995 0.74233725 0.82327113 0.78143207 0.6665963  0.7921557\n",
            " 0.64118044 0.68614371 0.66001013 0.65203074 0.58642236 0.56586169\n",
            " 0.66089673 0.65515494 0.70970193 0.66452757 0.69437642 0.69218104\n",
            " 0.63569197 0.65266402 0.63780292 0.7267162  0.71388162 0.74191506\n",
            " 0.75002111 0.77222832 0.83049059 0.8194292  0.8289707  0.8125475\n",
            " 0.78776492 0.75162543 0.78426074 0.77974331 0.81326522 0.8141096\n",
            " 0.79473106 0.83336148 0.85898843 0.83901883 0.85628641 0.87486279\n",
            " 0.88782403 0.90095415 0.92793211 0.948535   0.93333615 0.91746179\n",
            " 0.92544119 0.91771511 0.9483239  0.94064004 0.96635143 0.9563033\n",
            " 0.96491598 0.94316196 0.94024646 0.9344871  0.92935753 0.92596024\n",
            " 0.92433184 0.92415172 0.92500526 0.92648405 0.92823708 0.92999983\n",
            " 0.93160093 0.93295628 0.93405098 0.9349162  0.9356091  0.93619335\n",
            " 0.93672705 0.93725592 0.93780953 0.93840331 0.93904006 0.93971527\n",
            " 0.94041973 0.94114304 0.9418754  0.94260943]\n",
            "27 day output [[0.9433406]]\n",
            "28 day input [0.96795575 1.         0.99016297 0.99050072 0.96538039 0.98488559\n",
            " 0.97086887 0.94026007 0.87748037 0.83483915 0.85413324 0.77336823\n",
            " 0.77269273 0.88014017 0.84007431 0.89673225 0.85527316 0.83884995\n",
            " 0.74233725 0.82327113 0.78143207 0.6665963  0.7921557  0.64118044\n",
            " 0.68614371 0.66001013 0.65203074 0.58642236 0.56586169 0.66089673\n",
            " 0.65515494 0.70970193 0.66452757 0.69437642 0.69218104 0.63569197\n",
            " 0.65266402 0.63780292 0.7267162  0.71388162 0.74191506 0.75002111\n",
            " 0.77222832 0.83049059 0.8194292  0.8289707  0.8125475  0.78776492\n",
            " 0.75162543 0.78426074 0.77974331 0.81326522 0.8141096  0.79473106\n",
            " 0.83336148 0.85898843 0.83901883 0.85628641 0.87486279 0.88782403\n",
            " 0.90095415 0.92793211 0.948535   0.93333615 0.91746179 0.92544119\n",
            " 0.91771511 0.9483239  0.94064004 0.96635143 0.9563033  0.96491598\n",
            " 0.94316196 0.94024646 0.9344871  0.92935753 0.92596024 0.92433184\n",
            " 0.92415172 0.92500526 0.92648405 0.92823708 0.92999983 0.93160093\n",
            " 0.93295628 0.93405098 0.9349162  0.9356091  0.93619335 0.93672705\n",
            " 0.93725592 0.93780953 0.93840331 0.93904006 0.93971527 0.94041973\n",
            " 0.94114304 0.9418754  0.94260943 0.9433406 ]\n",
            "28 day output [[0.9440663]]\n",
            "29 day input [1.         0.99016297 0.99050072 0.96538039 0.98488559 0.97086887\n",
            " 0.94026007 0.87748037 0.83483915 0.85413324 0.77336823 0.77269273\n",
            " 0.88014017 0.84007431 0.89673225 0.85527316 0.83884995 0.74233725\n",
            " 0.82327113 0.78143207 0.6665963  0.7921557  0.64118044 0.68614371\n",
            " 0.66001013 0.65203074 0.58642236 0.56586169 0.66089673 0.65515494\n",
            " 0.70970193 0.66452757 0.69437642 0.69218104 0.63569197 0.65266402\n",
            " 0.63780292 0.7267162  0.71388162 0.74191506 0.75002111 0.77222832\n",
            " 0.83049059 0.8194292  0.8289707  0.8125475  0.78776492 0.75162543\n",
            " 0.78426074 0.77974331 0.81326522 0.8141096  0.79473106 0.83336148\n",
            " 0.85898843 0.83901883 0.85628641 0.87486279 0.88782403 0.90095415\n",
            " 0.92793211 0.948535   0.93333615 0.91746179 0.92544119 0.91771511\n",
            " 0.9483239  0.94064004 0.96635143 0.9563033  0.96491598 0.94316196\n",
            " 0.94024646 0.9344871  0.92935753 0.92596024 0.92433184 0.92415172\n",
            " 0.92500526 0.92648405 0.92823708 0.92999983 0.93160093 0.93295628\n",
            " 0.93405098 0.9349162  0.9356091  0.93619335 0.93672705 0.93725592\n",
            " 0.93780953 0.93840331 0.93904006 0.93971527 0.94041973 0.94114304\n",
            " 0.9418754  0.94260943 0.9433406  0.94406629]\n",
            "29 day output [[0.94478655]]\n",
            "[[0.9431619644165039], [0.9402464628219604], [0.9344871044158936], [0.9293575286865234], [0.9259602427482605], [0.9243318438529968], [0.9241517186164856], [0.9250052571296692], [0.9264840483665466], [0.9282370805740356], [0.929999828338623], [0.9316009283065796], [0.9329562783241272], [0.934050977230072], [0.9349161982536316], [0.9356091022491455], [0.9361933469772339], [0.9367270469665527], [0.9372559189796448], [0.9378095269203186], [0.938403308391571], [0.9390400648117065], [0.9397152662277222], [0.9404197335243225], [0.9411430358886719], [0.9418753981590271], [0.942609429359436], [0.9433405995368958], [0.9440662860870361], [0.944786548614502]]\n"
          ]
        }
      ]
    },
    {
      "cell_type": "code",
      "source": [
        "day_new = np.arange(1,101)\n",
        "day_pred = np.arange(101, 131)"
      ],
      "metadata": {
        "id": "bj73Yc0H-DBF"
      },
      "execution_count": null,
      "outputs": []
    },
    {
      "cell_type": "code",
      "source": [
        "import matplotlib.pyplot as plt"
      ],
      "metadata": {
        "id": "rLjti3OF-kmi"
      },
      "execution_count": null,
      "outputs": []
    },
    {
      "cell_type": "code",
      "source": [
        "len(df1)"
      ],
      "metadata": {
        "colab": {
          "base_uri": "https://localhost:8080/"
        },
        "id": "I68GDBiH-nUC",
        "outputId": "4e0a5b59-f136-4b31-99bd-66fbe3aea1a3"
      },
      "execution_count": null,
      "outputs": [
        {
          "output_type": "execute_result",
          "data": {
            "text/plain": [
              "1258"
            ]
          },
          "metadata": {},
          "execution_count": 48
        }
      ]
    },
    {
      "cell_type": "code",
      "source": [
        "df3 = df1.tolist()\n",
        "df3.extend(lst_output)"
      ],
      "metadata": {
        "id": "Cd9DYFfC-oSU"
      },
      "execution_count": null,
      "outputs": []
    },
    {
      "cell_type": "code",
      "source": [
        "plt.plot(day_new, scaler.inverse_transform(df1[1158:]))\n",
        "plt.plot(day_pred, scaler.inverse_transform(lst_output))"
      ],
      "metadata": {
        "colab": {
          "base_uri": "https://localhost:8080/",
          "height": 282
        },
        "id": "Tm6J_k2F-p9Q",
        "outputId": "28c70f75-7c4f-44d5-bdaa-7aec3bb05101"
      },
      "execution_count": null,
      "outputs": [
        {
          "output_type": "execute_result",
          "data": {
            "text/plain": [
              "[<matplotlib.lines.Line2D at 0x7fabad6556d0>]"
            ]
          },
          "metadata": {},
          "execution_count": 52
        },
        {
          "output_type": "display_data",
          "data": {
            "text/plain": [
              "<Figure size 432x288 with 1 Axes>"
            ],
            "image/png": "[encoded data removed]"
          },
          "metadata": {
            "needs_background": "light"
          }
        }
      ]
    },
    {
      "cell_type": "code",
      "source": [
        ""
      ],
      "metadata": {
        "id": "bP2bT3An-9xU"
      },
      "execution_count": null,
      "outputs": []
    }
  ]
}